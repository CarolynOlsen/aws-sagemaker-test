{
 "cells": [
  {
   "cell_type": "markdown",
   "metadata": {},
   "source": [
    "### Defining some basic information about the dataset"
   ]
  },
  {
   "cell_type": "code",
   "execution_count": 49,
   "metadata": {},
   "outputs": [],
   "source": [
    "import pandas as pd\n",
    "import glob\n",
    "from random import randint\n",
    "import numpy as np\n",
    "\n",
    "# Remove columns that have a STD less than\n",
    "MINIMUM_STD = 0.00001\n",
    "\n",
    "# Define columns\n",
    "DF_COLUMNS = [\"ENGINE_NUMBER\", \"TIME_IN_CYCLES\"] + \\\n",
    "             [\"OPERATIONAL_SETTING_{}\".format(x) for x in range(1,4)] + \\\n",
    "             [\"SENSOR_MEASUREMENT_{}\".format(x) for x in range(1,24)]\n",
    "\n",
    "# Define data paths and data names\n",
    "DATA_PATH = \"/home/ec2-user/SageMaker/aws-sagemaker-test/data/\"\n",
    "DS_FILENAME = DATA_PATH + \"{}_FD00{}.txt\"\n"
   ]
  },
  {
   "cell_type": "markdown",
   "metadata": {},
   "source": [
    "### Defining funcitons to load data and to filter out columns where STD is less than MINIMUM_STD"
   ]
  },
  {
   "cell_type": "code",
   "execution_count": 59,
   "metadata": {},
   "outputs": [],
   "source": [
    "# Functions to load some data\n",
    "def load_data(data_path, filter_data=False):  \n",
    "    \"\"\"\n",
    "    Load data in\n",
    "    \"\"\"\n",
    "    data = pd.read_csv(data_path, sep=' ', header=None, names=DF_COLUMNS)\n",
    "    data = data.drop(DF_COLUMNS[-2:], axis=1)\n",
    "#     data['TIME'] = pd.date_range('1/1/2000', periods=data.shape[0], freq='600s')\n",
    "    if filter_data:\n",
    "        data = drop_bad_columns(data)\n",
    "    return data\n",
    "\n",
    "def load_rul(data_path):  \n",
    "    df = pd.read_csv(data_path, header=None, names=['RUL'])\n",
    "    df['ENGINE_NUMBER'] = np.arange(1, len(df) + 1)\n",
    "    return df\n",
    "\n",
    "# Function to filter data that doesn't meet a certain criteria\n",
    "def drop_bad_columns(dataframe):\n",
    "    \"\"\"\n",
    "    Remove columns where the STD is less than MINIMUM_STD (only sensor data... not settings)\n",
    "    \"\"\"\n",
    "    df = dataframe.describe().T.reset_index()\n",
    "    for _,data in df.iterrows():\n",
    "        if abs(data['std']) <= MINIMUM_STD and 'SENSOR' in data['index']:\n",
    "            del dataframe[data['index']]\n",
    "    return dataframe.reset_index(drop=True)"
   ]
  },
  {
   "cell_type": "markdown",
   "metadata": {},
   "source": [
    "### Load train, test, RUL data for dataset 1 and 2"
   ]
  },
  {
   "cell_type": "code",
   "execution_count": 60,
   "metadata": {},
   "outputs": [],
   "source": [
    "# Load dataset 1\n",
    "train001 = load_data(DS_FILENAME.format('train', '1'), filter_data=True)\n",
    "test001 = load_data(DS_FILENAME.format('test', '1'), filter_data=True)\n",
    "rul001 = load_rul(DS_FILENAME.format('RUL', '1'))\n",
    "\n",
    "# Load dataset 2\n",
    "train002 = load_data(DS_FILENAME.format('train', '2'), filter_data=True)\n",
    "test002 = load_data(DS_FILENAME.format('test', '2'), filter_data=True)\n",
    "rul002 = load_rul(DS_FILENAME.format('RUL', '2'))"
   ]
  },
  {
   "cell_type": "code",
   "execution_count": null,
   "metadata": {},
   "outputs": [],
   "source": []
  },
  {
   "cell_type": "code",
   "execution_count": null,
   "metadata": {},
   "outputs": [],
   "source": []
  },
  {
   "cell_type": "code",
   "execution_count": null,
   "metadata": {},
   "outputs": [],
   "source": []
  }
 ],
 "metadata": {
  "kernelspec": {
   "display_name": "conda_python2",
   "language": "python",
   "name": "conda_python2"
  },
  "language_info": {
   "codemirror_mode": {
    "name": "ipython",
    "version": 2
   },
   "file_extension": ".py",
   "mimetype": "text/x-python",
   "name": "python",
   "nbconvert_exporter": "python",
   "pygments_lexer": "ipython2",
   "version": "2.7.15"
  }
 },
 "nbformat": 4,
 "nbformat_minor": 2
}
